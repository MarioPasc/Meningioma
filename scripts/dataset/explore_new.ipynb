{
 "cells": [
  {
   "cell_type": "code",
   "execution_count": null,
   "id": "e1979f44",
   "metadata": {},
   "outputs": [
    {
     "name": "stderr",
     "output_type": "stream",
     "text": [
      "/home/mariopasc/Python/misc/miniconda3/envs/meningiomas/lib/python3.10/site-packages/tqdm/auto.py:21: TqdmWarning: IProgress not found. Please update jupyter and ipywidgets. See https://ipywidgets.readthedocs.io/en/stable/user_install.html\n",
      "  from .autonotebook import tqdm as notebook_tqdm\n"
     ]
    }
   ],
   "source": [
    "from pathlib import Path\n",
    "from typing import List, Tuple, Optional, Dict\n",
    "import logging, json, re, random\n",
    "\n",
    "import pandas as pd\n",
    "import numpy as np\n",
    "import pydicom                       # low-level header access (optional)\n",
    "import nrrd                          # pynrrd\n",
    "import SimpleITK as sitk             # high-level I/O\n",
    "import matplotlib.pyplot as plt\n",
    "from tqdm.auto import tqdm\n",
    "\n",
    "logging.basicConfig(level=logging.INFO,\n",
    "                    format=\"%(levelname)s | %(message)s\")\n",
    "\n",
    "DATA_ROOT = Path(\"/home/mariopasc/Python/Datasets/Meningiomas/men\")\n",
    "FLAIR_DIRNAME = \"flair\"              # change here if convention differs\n",
    "TARGET_EXT = \".nrrd\"\n",
    "\n",
    "from pathlib import Path\n",
    "import flair2nrrd\n",
    "\n",
    "root   = Path(\"/home/mariopasc/Python/Datasets/Meningiomas/men\")\n",
    "outdir = root.parent / \"Derived\"          # wherever you like\n",
    "\n",
    "df = flair2nrrd.batch_convert_flair(root, outdir)\n",
    "df.head()\n"
   ]
  }
 ],
 "metadata": {
  "kernelspec": {
   "display_name": "meningiomas",
   "language": "python",
   "name": "python3"
  },
  "language_info": {
   "codemirror_mode": {
    "name": "ipython",
    "version": 3
   },
   "file_extension": ".py",
   "mimetype": "text/x-python",
   "name": "python",
   "nbconvert_exporter": "python",
   "pygments_lexer": "ipython3",
   "version": "3.10.16"
  }
 },
 "nbformat": 4,
 "nbformat_minor": 5
}

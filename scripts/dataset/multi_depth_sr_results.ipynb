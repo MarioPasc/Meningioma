{
 "cells": [
  {
   "cell_type": "code",
   "execution_count": null,
   "id": "539959cc",
   "metadata": {},
   "outputs": [
    {
     "ename": "SyntaxError",
     "evalue": "incomplete input (2902188862.py, line 39)",
     "output_type": "error",
     "traceback": [
      "\u001b[0;36m  Cell \u001b[0;32mIn[3], line 39\u001b[0;36m\u001b[0m\n\u001b[0;31m    save=os.path.join(ROOT, f\"{patient}-{pulse}-octant.png\")\u001b[0m\n\u001b[0m                                                            ^\u001b[0m\n\u001b[0;31mSyntaxError\u001b[0m\u001b[0;31m:\u001b[0m incomplete input\n"
     ]
    }
   ],
   "source": [
    "import os\n",
    "import nibabel as nib\n",
    "import mgmGrowth.tasks.superresolution.visualization.ortogonal as ov \n",
    "import mgmGrowth.tasks.superresolution.visualization.octant as oc\n",
    "\n",
    "from pathlib import Path\n",
    "\n",
    "ROOT = \"/home/mariopasc/Python/Datasets/Meningiomas/BraTS\"\n",
    "\n",
    "# Buen meningioma \"BraTS-MEN-00231-000\"\n",
    "patient = \"BraTS-MEN-00231-000\"\n",
    "pulse = \"t1c\"\n",
    "gt_nii = os.path.join(ROOT, \"BraTS_Men_Train\", patient, f\"{patient}-{pulse}.nii.gz\")\n",
    "mm3_nii = os.path.join(ROOT, \"SR\", \"3mm\", \"output_volumes\", f\"{patient}-{pulse}.nii.gz\")\n",
    "mm5_nii = os.path.join(ROOT, \"SR\", \"5mm\", \"output_volumes\", f\"{patient}-{pulse}.nii.gz\")\n",
    "mm7_nii = os.path.join(ROOT, \"SR\", \"7mm\", \"output_volumes\", f\"{patient}-{pulse}.nii.gz\")\n",
    "\n",
    "seg = os.path.join(ROOT, \"BraTS_Men_Train\", patient, f\"{patient}-seg.nii.gz\")\n",
    "# fig = ov.plot_orthogonal_slices(nib.load(gt_nii).get_fdata(), (81, 135, 123), cmap=\"gray\")\n",
    "# fig.savefig(os.path.join(ROOT, f\"{patient}-{pulse}-gt.png\"), dpi=300)\n",
    "\n",
    "volume = nib.load(gt_nii).get_fdata()\n",
    "\n",
    "fig = oc.plot_octant(\n",
    "        volume,\n",
    "        (65, 120, 135),\n",
    "        segmentation=nib.load(seg).get_fdata(),         \n",
    "        only_line=True,           # ← contour instead of fill\n",
    "        seg_alpha=0.2,            # bright lines\n",
    "        cmap=\"gray\",\n",
    "        figsize=(7,7),\n",
    "        xlabel=\"Anterior (+x)\",\n",
    "        ylabel=\"Right (+y)\",\n",
    "        zlabel=\"Cranial (+z)\",\n",
    "        xticks=[],\n",
    "        yticks=[],\n",
    "        zticks=[],\n",
    "        grid=False,\n",
    "        save=os.path.join(ROOT, f\"{patient}-{pulse}-octant.png\"))"
   ]
  }
 ],
 "metadata": {
  "kernelspec": {
   "display_name": "mgmGrowth",
   "language": "python",
   "name": "python3"
  },
  "language_info": {
   "codemirror_mode": {
    "name": "ipython",
    "version": 3
   },
   "file_extension": ".py",
   "mimetype": "text/x-python",
   "name": "python",
   "nbconvert_exporter": "python",
   "pygments_lexer": "ipython3",
   "version": "3.10.16"
  }
 },
 "nbformat": 4,
 "nbformat_minor": 5
}
